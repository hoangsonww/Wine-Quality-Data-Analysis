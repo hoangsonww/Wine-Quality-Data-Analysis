{
 "cells": [
  {
   "cell_type": "markdown",
   "id": "86067739",
   "metadata": {},
   "source": [
    "# Wine Quality Analysis\n",
    "\n",
    "This Jupyter notebook replicates the analysis from `Wine_Quality_Analysis.R`, fetching, cleaning, visualizing, performing PCA, and regression modeling on the UCI wine quality datasets (red & white)."
   ]
  },
  {
   "cell_type": "markdown",
   "id": "7881b188",
   "metadata": {},
   "source": [
    "## 1. Install & load packages"
   ]
  },
  {
   "cell_type": "code",
   "execution_count": null,
   "id": "46536717",
   "metadata": {},
   "outputs": [],
   "source": [
    "pkgs <- c(\"tidyverse\",\"GGally\",\"corrplot\",\"factoextra\")\n",
    "for(pkg in pkgs){\n",
    "  if(!requireNamespace(pkg, quietly=TRUE)) install.packages(pkg)\n",
    "  library(pkg, character.only=TRUE)\n",
    "}"
   ]
  },
  {
   "cell_type": "markdown",
   "id": "ab0dc694",
   "metadata": {},
   "source": [
    "## 2. Read & prepare data"
   ]
  },
  {
   "cell_type": "code",
   "execution_count": null,
   "id": "790d7b28",
   "metadata": {},
   "outputs": [],
   "source": [
    "url_red   <- \"https://archive.ics.uci.edu/ml/machine-learning-databases/wine-quality/winequality-red.csv\"\n",
    "url_white <- \"https://archive.ics.uci.edu/ml/machine-learning-databases/wine-quality/winequality-white.csv\"\n",
    "\n",
    "wine_spec <- cols(\n",
    "  `fixed acidity`          = col_double(),\n",
    "  `volatile acidity`       = col_double(),\n",
    "  `citric acid`            = col_double(),\n",
    "  `residual sugar`         = col_double(),\n",
    "  chlorides                 = col_double(),\n",
    "  `free sulfur dioxide`    = col_double(),\n",
    "  `total sulfur dioxide`   = col_double(),\n",
    "  density                   = col_double(),\n",
    "  pH                        = col_double(),\n",
    "  sulphates                 = col_double(),\n",
    "  alcohol                   = col_double(),\n",
    "  quality                   = col_integer()\n",
    ")\n",
    "\n",
    "red   <- read_delim(url_red, delim=\";\", col_types = wine_spec, locale = locale(decimal_mark=\".\")) %>% mutate(type=\"red\")\n",
    "white <- read_delim(url_white, delim=\";\", col_types = wine_spec, locale = locale(decimal_mark=\".\")) %>% mutate(type=\"white\")\n",
    "\n",
    "wine <- bind_rows(red, white) %>%\n",
    "  mutate(type=factor(type), quality=factor(quality, ordered=TRUE))\n",
    "\n",
    "cat(\"Total observations:\", nrow(wine), \"\\n\")\n",
    "cat(\"Red / White counts:\\n\"); print(table(wine$type))"
   ]
  },
  {
   "cell_type": "markdown",
   "id": "b22ad288",
   "metadata": {},
   "source": [
    "## 3. Exploratory Plots"
   ]
  },
  {
   "cell_type": "code",
   "execution_count": null,
   "id": "cec8634f",
   "metadata": {},
   "outputs": [],
   "source": [
    "# 3.1 Quality counts by type\n",
    "p1 <- ggplot(wine, aes(quality, fill=type)) +\n",
    "  geom_bar(position=\"dodge\") +\n",
    "  labs(title=\"Wine Quality Counts by Type\", x=\"Quality\", y=\"Count\") +\n",
    "  theme_minimal()\n",
    "print(p1)\n",
    "\n",
    "# 3.2 Alcohol vs. Quality\n",
    "p2 <- ggplot(wine, aes(alcohol, quality, colour=type)) +\n",
    "  geom_jitter(width=0, height=0.2, alpha=0.5) +\n",
    "  labs(title=\"Alcohol Content vs. Quality\", x=\"Alcohol (%)\", y=\"Quality\") +\n",
    "  theme_minimal()\n",
    "print(p2)\n",
    "\n",
    "# 3.3 Boxplots of key acids by quality\n",
    "attrs <- c(\"pH\",\"residual sugar\",\"citric acid\",\"sulphates\")\n",
    "p3 <- wine %>%\n",
    "  pivot_longer(all_of(attrs), names_to=\"attribute\", values_to=\"value\") %>%\n",
    "  ggplot(aes(quality, value, fill=quality)) +\n",
    "  geom_boxplot() +\n",
    "  facet_wrap(~attribute, scales=\"free_y\") +\n",
    "  labs(title=\"Chemical Attributes by Wine Quality\") +\n",
    "  theme_minimal() +\n",
    "  theme(legend.position=\"none\")\n",
    "print(p3)\n",
    "\n",
    "# 3.4 Correlation heatmap\n",
    "nums <- wine %>% select_if(is.numeric)\n",
    "corr <- cor(nums, use=\"pairwise.complete.obs\")\n",
    "corrplot(corr, method=\"color\", type=\"upper\", tl.col=\"black\", tl.cex=0.8)"
   ]
  },
  {
   "cell_type": "markdown",
   "id": "da1f35cf",
   "metadata": {},
   "source": [
    "## 4. PCA"
   ]
  },
  {
   "cell_type": "code",
   "execution_count": null,
   "id": "1f3963df",
   "metadata": {},
   "outputs": [],
   "source": [
    "scaled <- scale(nums)\n",
    "res.pca <- prcomp(scaled, center=TRUE, scale.=FALSE)\n",
    "fviz_screeplot(res.pca, addlabels=TRUE, title=\"PCA: Variance Explained\")\n",
    "fviz_pca_biplot(res.pca, repel=TRUE, title=\"PCA Biplot: Wines\")"
   ]
  },
  {
   "cell_type": "markdown",
   "id": "c5ebd88f",
   "metadata": {},
   "source": [
    "## 5. Regression Modeling"
   ]
  },
  {
   "cell_type": "code",
   "execution_count": null,
   "id": "4c821df2",
   "metadata": {},
   "outputs": [],
   "source": [
    "wine$num_quality <- as.numeric(as.character(wine$quality))\n",
    "mod <- lm(num_quality ~ alcohol + sulphates + pH + type, data=wine)\n",
    "cat(\"\\n=== Regression Summary ===\\n\")\n",
    "print(summary(mod))\n",
    "plot(mod, which=1)"
   ]
  },
  {
   "cell_type": "markdown",
   "id": "ba0c05f7",
   "metadata": {},
   "source": [
    "## 6. Fitted vs Actual"
   ]
  },
  {
   "cell_type": "code",
   "execution_count": null,
   "id": "c7228837",
   "metadata": {},
   "outputs": [],
   "source": [
    "wine$fitted <- fitted(mod)\n",
    "p4 <- ggplot(wine, aes(fitted, num_quality, colour=type)) +\n",
    "  geom_jitter(alpha=0.4, height=0.1) +\n",
    "  geom_abline(slope=1, intercept=0, linetype=\"dashed\") +\n",
    "  labs(title=\"Fitted vs. Actual Quality\", x=\"Fitted quality\", y=\"Actual quality\") +\n",
    "  theme_minimal()\n",
    "print(p4)"
   ]
  }
 ],
 "metadata": {
  "kernelspec": {
   "display_name": "R",
   "language": "R",
   "name": "ir"
  },
  "language_info": {
   "name": "R"
  }
 },
 "nbformat": 4,
 "nbformat_minor": 5
}
